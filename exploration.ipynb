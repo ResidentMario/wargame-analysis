{
 "cells": [
  {
   "cell_type": "code",
   "execution_count": 1,
   "metadata": {},
   "outputs": [
    {
     "name": "stderr",
     "output_type": "stream",
     "text": [
      "/home/alex/miniconda3/envs/wargame-analysis/lib/python3.6/site-packages/IPython/core/interactiveshell.py:2785: DtypeWarning: Columns (2,12,79,80,92,112,115,119,120,132,152,155,285,286,300,320,323,327,328,342,362,365,369,370,384,404,407,411,412,424,444,447,451,452,466,486,489,493,494,506,526,529) have mixed types. Specify dtype option on import or set low_memory=False.\n",
      "  interactivity=interactivity, compiler=compiler, result=result)\n"
     ]
    },
    {
     "data": {
      "text/html": [
       "<div>\n",
       "<style scoped>\n",
       "    .dataframe tbody tr th:only-of-type {\n",
       "        vertical-align: middle;\n",
       "    }\n",
       "\n",
       "    .dataframe tbody tr th {\n",
       "        vertical-align: top;\n",
       "    }\n",
       "\n",
       "    .dataframe thead th {\n",
       "        text-align: right;\n",
       "    }\n",
       "</style>\n",
       "<table border=\"1\" class=\"dataframe\">\n",
       "  <thead>\n",
       "    <tr style=\"text-align: right;\">\n",
       "      <th></th>\n",
       "      <th>AirplaneMinimalAltitude</th>\n",
       "      <th>Amphibious</th>\n",
       "      <th>ArmorFront</th>\n",
       "      <th>ArmorFrontSplashResistant</th>\n",
       "      <th>ArmorRear</th>\n",
       "      <th>ArmorRearSplashResistant</th>\n",
       "      <th>ArmorSides</th>\n",
       "      <th>ArmorSidesSplashResistant</th>\n",
       "      <th>ArmorTop</th>\n",
       "      <th>ArmorTopSplashResistant</th>\n",
       "      <th>...</th>\n",
       "      <th>Weapon9RangeShipMinimum</th>\n",
       "      <th>Weapon9RayonPinned</th>\n",
       "      <th>Weapon9ShotsPerSalvo</th>\n",
       "      <th>Weapon9SupplyCost</th>\n",
       "      <th>Weapon9Tags</th>\n",
       "      <th>Weapon9TimeBetweenSalvos</th>\n",
       "      <th>Weapon9TimeBetweenShots</th>\n",
       "      <th>Weapon9Type</th>\n",
       "      <th>Transporters</th>\n",
       "      <th>Decks</th>\n",
       "    </tr>\n",
       "  </thead>\n",
       "  <tbody>\n",
       "    <tr>\n",
       "      <th>0</th>\n",
       "      <td>NaN</td>\n",
       "      <td>False</td>\n",
       "      <td>2</td>\n",
       "      <td>False</td>\n",
       "      <td>1</td>\n",
       "      <td>False</td>\n",
       "      <td>1</td>\n",
       "      <td>False</td>\n",
       "      <td>1</td>\n",
       "      <td>False</td>\n",
       "      <td>...</td>\n",
       "      <td>NaN</td>\n",
       "      <td>NaN</td>\n",
       "      <td>NaN</td>\n",
       "      <td>NaN</td>\n",
       "      <td>NaN</td>\n",
       "      <td>NaN</td>\n",
       "      <td>NaN</td>\n",
       "      <td>NaN</td>\n",
       "      <td>18064</td>\n",
       "      <td>Motorized|Support</td>\n",
       "    </tr>\n",
       "    <tr>\n",
       "      <th>1</th>\n",
       "      <td>NaN</td>\n",
       "      <td>False</td>\n",
       "      <td>1</td>\n",
       "      <td>False</td>\n",
       "      <td>1</td>\n",
       "      <td>False</td>\n",
       "      <td>1</td>\n",
       "      <td>False</td>\n",
       "      <td>1</td>\n",
       "      <td>False</td>\n",
       "      <td>...</td>\n",
       "      <td>NaN</td>\n",
       "      <td>NaN</td>\n",
       "      <td>NaN</td>\n",
       "      <td>NaN</td>\n",
       "      <td>NaN</td>\n",
       "      <td>NaN</td>\n",
       "      <td>NaN</td>\n",
       "      <td>NaN</td>\n",
       "      <td>NaN</td>\n",
       "      <td>Mechanized|Armored|Support</td>\n",
       "    </tr>\n",
       "    <tr>\n",
       "      <th>2</th>\n",
       "      <td>NaN</td>\n",
       "      <td>False</td>\n",
       "      <td>2</td>\n",
       "      <td>False</td>\n",
       "      <td>1</td>\n",
       "      <td>False</td>\n",
       "      <td>1</td>\n",
       "      <td>False</td>\n",
       "      <td>1</td>\n",
       "      <td>False</td>\n",
       "      <td>...</td>\n",
       "      <td>NaN</td>\n",
       "      <td>NaN</td>\n",
       "      <td>NaN</td>\n",
       "      <td>NaN</td>\n",
       "      <td>NaN</td>\n",
       "      <td>NaN</td>\n",
       "      <td>NaN</td>\n",
       "      <td>NaN</td>\n",
       "      <td>NaN</td>\n",
       "      <td>Mechanized|Armored|Support</td>\n",
       "    </tr>\n",
       "    <tr>\n",
       "      <th>3</th>\n",
       "      <td>NaN</td>\n",
       "      <td>False</td>\n",
       "      <td>2</td>\n",
       "      <td>False</td>\n",
       "      <td>1</td>\n",
       "      <td>False</td>\n",
       "      <td>1</td>\n",
       "      <td>False</td>\n",
       "      <td>1</td>\n",
       "      <td>False</td>\n",
       "      <td>...</td>\n",
       "      <td>NaN</td>\n",
       "      <td>NaN</td>\n",
       "      <td>NaN</td>\n",
       "      <td>NaN</td>\n",
       "      <td>NaN</td>\n",
       "      <td>NaN</td>\n",
       "      <td>NaN</td>\n",
       "      <td>NaN</td>\n",
       "      <td>NaN</td>\n",
       "      <td>Mechanized|Armored|Support</td>\n",
       "    </tr>\n",
       "    <tr>\n",
       "      <th>4</th>\n",
       "      <td>NaN</td>\n",
       "      <td>True</td>\n",
       "      <td>2</td>\n",
       "      <td>False</td>\n",
       "      <td>1</td>\n",
       "      <td>False</td>\n",
       "      <td>1</td>\n",
       "      <td>False</td>\n",
       "      <td>1</td>\n",
       "      <td>False</td>\n",
       "      <td>...</td>\n",
       "      <td>NaN</td>\n",
       "      <td>NaN</td>\n",
       "      <td>NaN</td>\n",
       "      <td>NaN</td>\n",
       "      <td>NaN</td>\n",
       "      <td>NaN</td>\n",
       "      <td>NaN</td>\n",
       "      <td>NaN</td>\n",
       "      <td>NaN</td>\n",
       "      <td>Mechanized|Motorized|Armored</td>\n",
       "    </tr>\n",
       "  </tbody>\n",
       "</table>\n",
       "<p>5 rows × 531 columns</p>\n",
       "</div>"
      ],
      "text/plain": [
       "   AirplaneMinimalAltitude Amphibious  ArmorFront  ArmorFrontSplashResistant  \\\n",
       "0                      NaN      False           2                      False   \n",
       "1                      NaN      False           1                      False   \n",
       "2                      NaN      False           2                      False   \n",
       "3                      NaN      False           2                      False   \n",
       "4                      NaN       True           2                      False   \n",
       "\n",
       "   ArmorRear  ArmorRearSplashResistant  ArmorSides  ArmorSidesSplashResistant  \\\n",
       "0          1                     False           1                      False   \n",
       "1          1                     False           1                      False   \n",
       "2          1                     False           1                      False   \n",
       "3          1                     False           1                      False   \n",
       "4          1                     False           1                      False   \n",
       "\n",
       "   ArmorTop  ArmorTopSplashResistant              ...               \\\n",
       "0         1                    False              ...                \n",
       "1         1                    False              ...                \n",
       "2         1                    False              ...                \n",
       "3         1                    False              ...                \n",
       "4         1                    False              ...                \n",
       "\n",
       "   Weapon9RangeShipMinimum Weapon9RayonPinned Weapon9ShotsPerSalvo  \\\n",
       "0                      NaN                NaN                  NaN   \n",
       "1                      NaN                NaN                  NaN   \n",
       "2                      NaN                NaN                  NaN   \n",
       "3                      NaN                NaN                  NaN   \n",
       "4                      NaN                NaN                  NaN   \n",
       "\n",
       "   Weapon9SupplyCost  Weapon9Tags  Weapon9TimeBetweenSalvos  \\\n",
       "0                NaN          NaN                       NaN   \n",
       "1                NaN          NaN                       NaN   \n",
       "2                NaN          NaN                       NaN   \n",
       "3                NaN          NaN                       NaN   \n",
       "4                NaN          NaN                       NaN   \n",
       "\n",
       "   Weapon9TimeBetweenShots  Weapon9Type  Transporters  \\\n",
       "0                      NaN          NaN         18064   \n",
       "1                      NaN          NaN           NaN   \n",
       "2                      NaN          NaN           NaN   \n",
       "3                      NaN          NaN           NaN   \n",
       "4                      NaN          NaN           NaN   \n",
       "\n",
       "                          Decks  \n",
       "0             Motorized|Support  \n",
       "1    Mechanized|Armored|Support  \n",
       "2    Mechanized|Armored|Support  \n",
       "3    Mechanized|Armored|Support  \n",
       "4  Mechanized|Motorized|Armored  \n",
       "\n",
       "[5 rows x 531 columns]"
      ]
     },
     "execution_count": 1,
     "metadata": {},
     "output_type": "execute_result"
    }
   ],
   "source": [
    "import pandas as pd\n",
    "df = pd.read_csv(\"../wargame-data/data/510064564/final_data.csv\", index_col=0)\n",
    "df.head()"
   ]
  },
  {
   "cell_type": "markdown",
   "metadata": {},
   "source": [
    "## Initial approach\n",
    "\n",
    "The base `DataFrame` contains a lot of information, much of which is specific to a particular unit class. It makes the most sense to examine the attributes and sub-attributes of specific weapon classes. Tanks the simplest unit conceptually, so we'll study them first.\n",
    "\n",
    "Selecting the attributes of the unit card that are relevant to the tank type is easy. Weapons are a bit harder. Obviously the weapon is just as important as the armor when it comes to deciding how to price a tank. But there are a lot of them, all having different types. For example, napalm bombs are very different from cluster bombs, which are very different from a tank cannon. And so on.\n",
    "\n",
    "Instead of trying to build this complexity into our model by modeling things like weapon category, range, ammo count, and so on, we'll take a shortcut: just consider the weapons as static elements. A unit either has a weapon or it doesn't, and if it does have that weapon the \"price\" of that weapon gets tacked on to the price of the unit overall.\n",
    "\n",
    "A difficulty with this approach is that weapons can appear in any position on a unit card, technically. For example, the same machine gun might be mounted in card position three on an ATGM tank, and in card position two on a non-ATGM tank. If we naively dummy encode weapon names, we will get duplicate columns. You can check where and when this occurs with the following code:\n",
    "\n",
    "```python\n",
    "\n",
    "pd.concat([pd.get_dummies(tanks[c]) for c in ['Weapon1Name', 'Weapon2Name', 'Weapon3Name']], \n",
    "           axis='columns', \n",
    "           verify_integrity=True\n",
    "          )\n",
    "```\n",
    "\n",
    "So we have to do a little bit of work to treat those weapons differently (running a row-wise aggregator instead of a column-wise dummy ufunc). That, implemented as `merge_weapon_list`, follows below."
   ]
  },
  {
   "cell_type": "code",
   "execution_count": 38,
   "metadata": {},
   "outputs": [],
   "source": [
    "tanks = df.query(\"Tab == 'TNK'\")"
   ]
  },
  {
   "cell_type": "code",
   "execution_count": 119,
   "metadata": {},
   "outputs": [],
   "source": [
    "tanks = df.query(\"Tab == 'TNK'\")\n",
    "\n",
    "def merge_weapon_list(subframe, weapons):\n",
    "    subsrs = []\n",
    "    for w in weapons:\n",
    "        subsrs.append(subframe.apply(lambda row: int((row == w).any()), axis='columns').rename(w))\n",
    "    return pd.concat(subsrs, axis='columns')\n",
    "\n",
    "multiple_position_weapons = ['DShK', 'HS.820', 'M2 Browning', 'MAG 7', 'Mk19', 'NF-1', 'NSVT', 'T54']\n",
    "\n",
    "weapons = (pd.concat([pd.get_dummies(tanks[c]) for c in ['Weapon1Name', 'Weapon2Name', 'Weapon3Name']], \n",
    "           axis='columns')\n",
    "     .pipe(lambda df: df.loc[:, [c for c in df if c not in multiple_position_weapons]])\n",
    "     .join(merge_weapon_list(tanks[['Weapon1Name', 'Weapon2Name', 'Weapon3Name']], multiple_position_weapons),\n",
    "          )\n",
    ")\n",
    "\n",
    "tanks_cols = [\n",
    "    'Amphibious', 'ArmorFront', 'ArmorRear', 'ArmorSides', 'ArmorTop', 'Autonomy', 'MaxSpeed', 'Price', 'Year'\n",
    "]\n",
    "tanks = tanks.loc[:, tanks_cols].join(weapons).assign(NumWeapons=weapons.sum(axis=1))"
   ]
  },
  {
   "cell_type": "code",
   "execution_count": 120,
   "metadata": {},
   "outputs": [
    {
     "data": {
      "text/html": [
       "<div>\n",
       "<style scoped>\n",
       "    .dataframe tbody tr th:only-of-type {\n",
       "        vertical-align: middle;\n",
       "    }\n",
       "\n",
       "    .dataframe tbody tr th {\n",
       "        vertical-align: top;\n",
       "    }\n",
       "\n",
       "    .dataframe thead th {\n",
       "        text-align: right;\n",
       "    }\n",
       "</style>\n",
       "<table border=\"1\" class=\"dataframe\">\n",
       "  <thead>\n",
       "    <tr style=\"text-align: right;\">\n",
       "      <th></th>\n",
       "      <th>Amphibious</th>\n",
       "      <th>ArmorFront</th>\n",
       "      <th>ArmorRear</th>\n",
       "      <th>ArmorSides</th>\n",
       "      <th>ArmorTop</th>\n",
       "      <th>Autonomy</th>\n",
       "      <th>MaxSpeed</th>\n",
       "      <th>Price</th>\n",
       "      <th>Year</th>\n",
       "      <th>2A20</th>\n",
       "      <th>...</th>\n",
       "      <th>Strela-2M</th>\n",
       "      <th>DShK</th>\n",
       "      <th>HS.820</th>\n",
       "      <th>M2 Browning</th>\n",
       "      <th>MAG 7</th>\n",
       "      <th>Mk19</th>\n",
       "      <th>NF-1</th>\n",
       "      <th>NSVT</th>\n",
       "      <th>T54</th>\n",
       "      <th>NumWeapons</th>\n",
       "    </tr>\n",
       "  </thead>\n",
       "  <tbody>\n",
       "    <tr>\n",
       "      <th>30</th>\n",
       "      <td>False</td>\n",
       "      <td>3</td>\n",
       "      <td>1</td>\n",
       "      <td>2</td>\n",
       "      <td>1</td>\n",
       "      <td>400.0</td>\n",
       "      <td>60.0</td>\n",
       "      <td>35.0</td>\n",
       "      <td>1975.0</td>\n",
       "      <td>0</td>\n",
       "      <td>...</td>\n",
       "      <td>0</td>\n",
       "      <td>0</td>\n",
       "      <td>0</td>\n",
       "      <td>0</td>\n",
       "      <td>1</td>\n",
       "      <td>0</td>\n",
       "      <td>0</td>\n",
       "      <td>0</td>\n",
       "      <td>0</td>\n",
       "      <td>2</td>\n",
       "    </tr>\n",
       "    <tr>\n",
       "      <th>37</th>\n",
       "      <td>False</td>\n",
       "      <td>4</td>\n",
       "      <td>1</td>\n",
       "      <td>3</td>\n",
       "      <td>1</td>\n",
       "      <td>900.0</td>\n",
       "      <td>85.0</td>\n",
       "      <td>40.0</td>\n",
       "      <td>1991.0</td>\n",
       "      <td>0</td>\n",
       "      <td>...</td>\n",
       "      <td>0</td>\n",
       "      <td>0</td>\n",
       "      <td>0</td>\n",
       "      <td>0</td>\n",
       "      <td>0</td>\n",
       "      <td>0</td>\n",
       "      <td>1</td>\n",
       "      <td>0</td>\n",
       "      <td>0</td>\n",
       "      <td>2</td>\n",
       "    </tr>\n",
       "    <tr>\n",
       "      <th>40</th>\n",
       "      <td>False</td>\n",
       "      <td>3</td>\n",
       "      <td>1</td>\n",
       "      <td>2</td>\n",
       "      <td>1</td>\n",
       "      <td>400.0</td>\n",
       "      <td>60.0</td>\n",
       "      <td>25.0</td>\n",
       "      <td>1974.0</td>\n",
       "      <td>0</td>\n",
       "      <td>...</td>\n",
       "      <td>0</td>\n",
       "      <td>0</td>\n",
       "      <td>0</td>\n",
       "      <td>0</td>\n",
       "      <td>0</td>\n",
       "      <td>0</td>\n",
       "      <td>1</td>\n",
       "      <td>0</td>\n",
       "      <td>0</td>\n",
       "      <td>3</td>\n",
       "    </tr>\n",
       "    <tr>\n",
       "      <th>41</th>\n",
       "      <td>False</td>\n",
       "      <td>6</td>\n",
       "      <td>2</td>\n",
       "      <td>3</td>\n",
       "      <td>1</td>\n",
       "      <td>600.0</td>\n",
       "      <td>60.0</td>\n",
       "      <td>30.0</td>\n",
       "      <td>1967.0</td>\n",
       "      <td>0</td>\n",
       "      <td>...</td>\n",
       "      <td>0</td>\n",
       "      <td>0</td>\n",
       "      <td>0</td>\n",
       "      <td>0</td>\n",
       "      <td>0</td>\n",
       "      <td>0</td>\n",
       "      <td>1</td>\n",
       "      <td>0</td>\n",
       "      <td>0</td>\n",
       "      <td>2</td>\n",
       "    </tr>\n",
       "    <tr>\n",
       "      <th>42</th>\n",
       "      <td>False</td>\n",
       "      <td>7</td>\n",
       "      <td>2</td>\n",
       "      <td>4</td>\n",
       "      <td>2</td>\n",
       "      <td>600.0</td>\n",
       "      <td>70.0</td>\n",
       "      <td>40.0</td>\n",
       "      <td>1982.0</td>\n",
       "      <td>0</td>\n",
       "      <td>...</td>\n",
       "      <td>0</td>\n",
       "      <td>0</td>\n",
       "      <td>0</td>\n",
       "      <td>0</td>\n",
       "      <td>0</td>\n",
       "      <td>0</td>\n",
       "      <td>1</td>\n",
       "      <td>0</td>\n",
       "      <td>0</td>\n",
       "      <td>3</td>\n",
       "    </tr>\n",
       "  </tbody>\n",
       "</table>\n",
       "<p>5 rows × 88 columns</p>\n",
       "</div>"
      ],
      "text/plain": [
       "   Amphibious  ArmorFront  ArmorRear  ArmorSides  ArmorTop  Autonomy  \\\n",
       "30      False           3          1           2         1     400.0   \n",
       "37      False           4          1           3         1     900.0   \n",
       "40      False           3          1           2         1     400.0   \n",
       "41      False           6          2           3         1     600.0   \n",
       "42      False           7          2           4         2     600.0   \n",
       "\n",
       "    MaxSpeed  Price    Year  2A20     ...      Strela-2M  DShK  HS.820  \\\n",
       "30      60.0   35.0  1975.0     0     ...              0     0       0   \n",
       "37      85.0   40.0  1991.0     0     ...              0     0       0   \n",
       "40      60.0   25.0  1974.0     0     ...              0     0       0   \n",
       "41      60.0   30.0  1967.0     0     ...              0     0       0   \n",
       "42      70.0   40.0  1982.0     0     ...              0     0       0   \n",
       "\n",
       "    M2 Browning  MAG 7  Mk19  NF-1  NSVT  T54  NumWeapons  \n",
       "30            0      1     0     0     0    0           2  \n",
       "37            0      0     0     1     0    0           2  \n",
       "40            0      0     0     1     0    0           3  \n",
       "41            0      0     0     1     0    0           2  \n",
       "42            0      0     0     1     0    0           3  \n",
       "\n",
       "[5 rows x 88 columns]"
      ]
     },
     "execution_count": 120,
     "metadata": {},
     "output_type": "execute_result"
    }
   ],
   "source": [
    "tanks.head()"
   ]
  },
  {
   "cell_type": "code",
   "execution_count": 122,
   "metadata": {},
   "outputs": [
    {
     "name": "stdout",
     "output_type": "stream",
     "text": [
      "best bandwidth: 1.8329807108324356\n"
     ]
    }
   ],
   "source": [
    "from sklearn.neighbors import KernelDensity\n",
    "from sklearn.model_selection import GridSearchCV\n",
    "import numpy as np\n",
    "\n",
    "# use grid search cross-validation to optimize the bandwidth\n",
    "params = {'bandwidth': np.logspace(-1, 1, 20)}\n",
    "grid = GridSearchCV(KernelDensity(), params)\n",
    "grid.fit(tanks)\n",
    "\n",
    "print(\"best bandwidth: {0}\".format(grid.best_estimator_.bandwidth))\n",
    "\n",
    "model = grid.best_estimator_"
   ]
  },
  {
   "cell_type": "code",
   "execution_count": 123,
   "metadata": {},
   "outputs": [
    {
     "data": {
      "text/plain": [
       "KernelDensity(algorithm='auto', atol=0, bandwidth=1.8329807108324356,\n",
       "       breadth_first=True, kernel='gaussian', leaf_size=40,\n",
       "       metric='euclidean', metric_params=None, rtol=0)"
      ]
     },
     "execution_count": 123,
     "metadata": {},
     "output_type": "execute_result"
    }
   ],
   "source": [
    "model"
   ]
  },
  {
   "cell_type": "code",
   "execution_count": 203,
   "metadata": {},
   "outputs": [],
   "source": [
    "def draw_sample(model, n_nonweapon_vars):\n",
    "    while True:\n",
    "        # Get the draw.\n",
    "        draw = pd.Series(model.sample(1)[0], tanks.columns)\n",
    "\n",
    "        # Get the weapons.\n",
    "        numweapons = draw.iloc[-1]\n",
    "        weapons = draw.iloc[n_nonweapon_vars + 1:-1]\n",
    "        weapons = weapons.sort_values(ascending=False).head(int(numweapons)).index\n",
    "\n",
    "        # Establish the result.\n",
    "        result = pd.concat([draw.iloc[:n_nonweapon_vars], \n",
    "                            pd.Series({'Weapon{0}Name'.format(i + 1): w for i, w in enumerate(weapons)})])\n",
    "\n",
    "        # Clean up result values.\n",
    "        result['Amphibious'] = result['Amphibious'] > 0.5\n",
    "        for c in ['ArmorFront', 'ArmorRear', 'ArmorSides', 'ArmorTop']:\n",
    "            result[c] = int(result[c])\n",
    "        result['Autonomy'] = np.round(result['Autonomy'], -1)\n",
    "        result['MaxSpeed'] = np.round(result['MaxSpeed'], -1)\n",
    "        result['Price'] = np.round(result['Price'], -1)\n",
    "        result['Year'] = np.round(result['Year'], 0)\n",
    "        \n",
    "        if (len(result) > 9) and (len(result) < 13):\n",
    "            return result"
   ]
  },
  {
   "cell_type": "code",
   "execution_count": 226,
   "metadata": {
    "scrolled": true
   },
   "outputs": [
    {
     "data": {
      "text/plain": [
       "Amphibious     False\n",
       "ArmorFront         8\n",
       "ArmorRear         -1\n",
       "ArmorSides         5\n",
       "ArmorTop           1\n",
       "Autonomy         500\n",
       "MaxSpeed          60\n",
       "Price             40\n",
       "Year            1973\n",
       "Weapon1Name    XM-35\n",
       "dtype: object"
      ]
     },
     "execution_count": 226,
     "metadata": {},
     "output_type": "execute_result"
    }
   ],
   "source": [
    "draw_sample(model, 9)"
   ]
  },
  {
   "cell_type": "markdown",
   "metadata": {},
   "source": [
    "Hmm. Unfortunately there's no way to tell the kernel density estimator that we need strictly between 1 and 3 weapons, and that the weapon types have to be X, Y, Z (main cannon, perhaps a missile, and an MG), so an approach based on more specific and focused feature parameterization is the way to go.\n",
    "\n",
    "## Another approach\n",
    "\n",
    "This time around, let's try featurizing the data. Again, I do so on a per-type basis, as the features that matter for a tank are different from those which matter for infantry, which differ from those that matter for planes, and so on.\n",
    "\n",
    "I will try this out on tanks first, re-using some of the code from the previous attempt."
   ]
  },
  {
   "cell_type": "code",
   "execution_count": 7,
   "metadata": {},
   "outputs": [],
   "source": [
    "tanks = df.query(\"Tab == 'TNK'\")\n",
    "obvious_cols = [\n",
    "    'Amphibious', 'ArmorFront', 'ArmorRear', 'ArmorSides', 'ArmorTop', 'Autonomy', 'MaxSpeed', 'Price', 'Year'\n",
    "]\n",
    "\n",
    "# Generate a masked array for which weapons a given unit has.\n",
    "def merge_weapon_list(subframe, weapons):\n",
    "    subsrs = []\n",
    "    for w in weapons:\n",
    "        subsrs.append(subframe.apply(lambda row: int((row == w).any()), axis='columns').rename(w))\n",
    "    return pd.concat(subsrs, axis='columns')\n",
    "\n",
    "multiple_position_weapons = ['DShK', 'HS.820', 'M2 Browning', 'MAG 7', 'Mk19', 'NF-1', 'NSVT', 'T54']\n",
    "\n",
    "weapons = (pd.concat([pd.get_dummies(tanks[c]) for c in ['Weapon1Name', 'Weapon2Name', 'Weapon3Name']], \n",
    "           axis='columns')\n",
    "     .pipe(lambda df: df.loc[:, [c for c in df if c not in multiple_position_weapons]])\n",
    "     .join(merge_weapon_list(tanks[['Weapon1Name', 'Weapon2Name', 'Weapon3Name']], multiple_position_weapons),\n",
    "          )\n",
    ")\n",
    "\n",
    "tanks_df = tanks.loc[:, obvious_cols]"
   ]
  },
  {
   "cell_type": "markdown",
   "metadata": {},
   "source": [
    "Here are the obvious features, which can be extracted from the frame very easily:"
   ]
  },
  {
   "cell_type": "code",
   "execution_count": 9,
   "metadata": {},
   "outputs": [
    {
     "data": {
      "text/html": [
       "<div>\n",
       "<style scoped>\n",
       "    .dataframe tbody tr th:only-of-type {\n",
       "        vertical-align: middle;\n",
       "    }\n",
       "\n",
       "    .dataframe tbody tr th {\n",
       "        vertical-align: top;\n",
       "    }\n",
       "\n",
       "    .dataframe thead th {\n",
       "        text-align: right;\n",
       "    }\n",
       "</style>\n",
       "<table border=\"1\" class=\"dataframe\">\n",
       "  <thead>\n",
       "    <tr style=\"text-align: right;\">\n",
       "      <th></th>\n",
       "      <th>Amphibious</th>\n",
       "      <th>ArmorFront</th>\n",
       "      <th>ArmorRear</th>\n",
       "      <th>ArmorSides</th>\n",
       "      <th>ArmorTop</th>\n",
       "      <th>Autonomy</th>\n",
       "      <th>MaxSpeed</th>\n",
       "      <th>Price</th>\n",
       "      <th>Year</th>\n",
       "    </tr>\n",
       "  </thead>\n",
       "  <tbody>\n",
       "    <tr>\n",
       "      <th>30</th>\n",
       "      <td>False</td>\n",
       "      <td>3</td>\n",
       "      <td>1</td>\n",
       "      <td>2</td>\n",
       "      <td>1</td>\n",
       "      <td>400.0</td>\n",
       "      <td>60.0</td>\n",
       "      <td>35.0</td>\n",
       "      <td>1975.0</td>\n",
       "    </tr>\n",
       "    <tr>\n",
       "      <th>37</th>\n",
       "      <td>False</td>\n",
       "      <td>4</td>\n",
       "      <td>1</td>\n",
       "      <td>3</td>\n",
       "      <td>1</td>\n",
       "      <td>900.0</td>\n",
       "      <td>85.0</td>\n",
       "      <td>40.0</td>\n",
       "      <td>1991.0</td>\n",
       "    </tr>\n",
       "    <tr>\n",
       "      <th>40</th>\n",
       "      <td>False</td>\n",
       "      <td>3</td>\n",
       "      <td>1</td>\n",
       "      <td>2</td>\n",
       "      <td>1</td>\n",
       "      <td>400.0</td>\n",
       "      <td>60.0</td>\n",
       "      <td>25.0</td>\n",
       "      <td>1974.0</td>\n",
       "    </tr>\n",
       "    <tr>\n",
       "      <th>41</th>\n",
       "      <td>False</td>\n",
       "      <td>6</td>\n",
       "      <td>2</td>\n",
       "      <td>3</td>\n",
       "      <td>1</td>\n",
       "      <td>600.0</td>\n",
       "      <td>60.0</td>\n",
       "      <td>30.0</td>\n",
       "      <td>1967.0</td>\n",
       "    </tr>\n",
       "    <tr>\n",
       "      <th>42</th>\n",
       "      <td>False</td>\n",
       "      <td>7</td>\n",
       "      <td>2</td>\n",
       "      <td>4</td>\n",
       "      <td>2</td>\n",
       "      <td>600.0</td>\n",
       "      <td>70.0</td>\n",
       "      <td>40.0</td>\n",
       "      <td>1982.0</td>\n",
       "    </tr>\n",
       "  </tbody>\n",
       "</table>\n",
       "</div>"
      ],
      "text/plain": [
       "   Amphibious  ArmorFront  ArmorRear  ArmorSides  ArmorTop  Autonomy  \\\n",
       "30      False           3          1           2         1     400.0   \n",
       "37      False           4          1           3         1     900.0   \n",
       "40      False           3          1           2         1     400.0   \n",
       "41      False           6          2           3         1     600.0   \n",
       "42      False           7          2           4         2     600.0   \n",
       "\n",
       "    MaxSpeed  Price    Year  \n",
       "30      60.0   35.0  1975.0  \n",
       "37      85.0   40.0  1991.0  \n",
       "40      60.0   25.0  1974.0  \n",
       "41      60.0   30.0  1967.0  \n",
       "42      70.0   40.0  1982.0  "
      ]
     },
     "execution_count": 9,
     "metadata": {},
     "output_type": "execute_result"
    }
   ],
   "source": [
    "tanks_df.head()"
   ]
  },
  {
   "cell_type": "markdown",
   "metadata": {},
   "source": [
    "Weapons are vastly trickier, and will require a lot of processing code. Here's a helper function for pulling out stats for a specific weapon:"
   ]
  },
  {
   "cell_type": "code",
   "execution_count": 74,
   "metadata": {},
   "outputs": [],
   "source": [
    "import numpy as np\n",
    "\n",
    "def weapon_stats_by_name(df, weapons, weapon_name):\n",
    "    \"\"\"Given a frame of units of some type, a frame of weapons associated with those units as generated by\n",
    "       merge_weapon_list, and the name of a weapon, returns stats associated with that weapon.\"\"\"\n",
    "    sample_unit = df.iloc[np.where(weapons.loc[:, weapon_name] == 1)[0][0]]\n",
    "    weapon_n = 1 if sample_unit['Weapon1Name'] == weapon_name\\\n",
    "        else 2 if sample_unit['Weapon2Name'] == weapon_name\\\n",
    "        else 3\n",
    "    ret = sample_unit[[c for c in sample_unit.index if ('Weapon{0}'.format(weapon_n) in c\n",
    "                                               and 'Weapon10' not in c\n",
    "                                               and 'Weapon11' not in c\n",
    "                                               and 'Weapon12' not in c)]]\n",
    "    ret.index = [c.replace('Weapon{0}'.format(weapon_n), '') for c in ret.index]\n",
    "    return ret"
   ]
  },
  {
   "cell_type": "code",
   "execution_count": 75,
   "metadata": {
    "scrolled": false
   },
   "outputs": [
    {
     "data": {
      "text/plain": [
       "AP                                               13\n",
       "AimTime                                           1\n",
       "AngleDispersion                               0.005\n",
       "Caliber                                        90mm\n",
       "CanSmoke                                       True\n",
       "CorrectedShotDispersionMultiplier               NaN\n",
       "DispersionAtMaxRange                            NaN\n",
       "DispersionAtMinRange                            NaN\n",
       "DisplayedAmmunition                              22\n",
       "FireTriggeringProbability                       NaN\n",
       "HE                                                3\n",
       "HitProbability                                 0.55\n",
       "HitProbabilityWhileMoving                       NaN\n",
       "MinimalCritProbability                         0.01\n",
       "MinimalHitProbability                          0.05\n",
       "MissileMaxAcceleration                          NaN\n",
       "MissileMaxSpeed                                 NaN\n",
       "MissileTimeBetweenCorrections                   NaN\n",
       "Name                                 Cockerill Mk.8\n",
       "Noise                                           250\n",
       "NumberOfSalvos                                   22\n",
       "PositionOnCard                                    2\n",
       "ProjectilesPerShot                                1\n",
       "RadiusSplashPhysicalDamage                     1.75\n",
       "RadiusSplashSuppressDamage                    157.5\n",
       "RangeGround                                    2100\n",
       "RangeGroundMinimum                              NaN\n",
       "RangeHelicopters                                NaN\n",
       "RangeHelicoptersMinimum                         NaN\n",
       "RangeMissiles                                   NaN\n",
       "RangeMissilesMinimum                            NaN\n",
       "RangePlanes                                     NaN\n",
       "RangePlanesMinimum                              NaN\n",
       "RangeShip                                      2100\n",
       "RangeShipMinimum                                NaN\n",
       "RayonPinned                                    2080\n",
       "ShotsPerSalvo                                     1\n",
       "SupplyCost                                       15\n",
       "Tags                                    KE|AoE|STAT\n",
       "TimeBetweenSalvos                               8.5\n",
       "TimeBetweenShots                                  1\n",
       "Type                                       Main Gun\n",
       "Name: 332, dtype: object"
      ]
     },
     "execution_count": 75,
     "metadata": {},
     "output_type": "execute_result"
    }
   ],
   "source": [
    "weapon_stats_by_name(tanks, weapons, 'Cockerill Mk.8')"
   ]
  },
  {
   "cell_type": "markdown",
   "metadata": {},
   "source": [
    "Tanks are universial in having a `Main Gun` as their first weapon:"
   ]
  },
  {
   "cell_type": "code",
   "execution_count": 69,
   "metadata": {},
   "outputs": [
    {
     "data": {
      "text/plain": [
       "Main Gun    210\n",
       "Name: Weapon1Type, dtype: int64"
      ]
     },
     "execution_count": 69,
     "metadata": {},
     "output_type": "execute_result"
    }
   ],
   "source": [
    "tanks['Weapon1Type'].value_counts(dropna=False)"
   ]
  },
  {
   "cell_type": "markdown",
   "metadata": {},
   "source": [
    "Most tanks have an `MMG` as their secondary weapon, but there's some variety."
   ]
  },
  {
   "cell_type": "code",
   "execution_count": 70,
   "metadata": {},
   "outputs": [
    {
     "data": {
      "text/plain": [
       "MMG                 151\n",
       "ATGM                 34\n",
       "HMG                   7\n",
       "Autocannon            7\n",
       "NaN                   7\n",
       "LMG                   3\n",
       "Grenade Launcher      1\n",
       "Name: Weapon2Type, dtype: int64"
      ]
     },
     "execution_count": 70,
     "metadata": {},
     "output_type": "execute_result"
    }
   ],
   "source": [
    "tanks['Weapon2Type'].value_counts(dropna=False)"
   ]
  },
  {
   "cell_type": "markdown",
   "metadata": {},
   "source": [
    "We will treat MMGs, HMGs, LMGs, and Autocannons using one combined set of features, as these weapons are broadly the same, differing only in caliber. ATGMs will get their own category of stats, as well Grenade Launchers. `NaN` will obviously correspond with scores of 0 for all of the related features."
   ]
  },
  {
   "cell_type": "code",
   "execution_count": 71,
   "metadata": {},
   "outputs": [
    {
     "data": {
      "text/plain": [
       "NaN                 160\n",
       "MMG                  45\n",
       "SAM                   2\n",
       "Autocannon            2\n",
       "Grenade Launcher      1\n",
       "Name: Weapon3Type, dtype: int64"
      ]
     },
     "execution_count": 71,
     "metadata": {},
     "output_type": "execute_result"
    }
   ],
   "source": [
    "tanks['Weapon3Type'].value_counts(dropna=False)"
   ]
  },
  {
   "cell_type": "markdown",
   "metadata": {},
   "source": [
    "The third weapon set also includes one further weapon type, the `SAM`, which is also worth its own feature set.\n",
    "\n",
    "We first need to adapt the earlier code to return a weapon by type:"
   ]
  },
  {
   "cell_type": "code",
   "execution_count": 76,
   "metadata": {},
   "outputs": [],
   "source": [
    "def weapon_stats_by_type(unit, weapons, weapon_type):\n",
    "    \"\"\"Given a unit (expressed as a Series), a frame of weapons associated with this unit's archetype\n",
    "       generated by merge_weapon_list, and the type of a weapon, returns stats associated with that weapon.\"\"\"\n",
    "    sample_unit = unit\n",
    "    weapon_n = 1 if sample_unit['Weapon1Type'] == weapon_type\\\n",
    "        else 2 if sample_unit['Weapon2Type'] == weapon_type\\\n",
    "        else 3 if sample_unit['Weapon3Type'] == weapon_type\\\n",
    "        else None\n",
    "    if not weapon_n:\n",
    "        return np.nan  # signal value: not found\n",
    "    else: \n",
    "        ret = sample_unit[[c for c in sample_unit.index if ('Weapon{0}'.format(weapon_n) in c\n",
    "                                                        and 'Weapon10' not in c\n",
    "                                                        and 'Weapon11' not in c\n",
    "                                                        and 'Weapon12' not in c)]]\n",
    "    ret.index = [c.replace('Weapon{0}'.format(weapon_n), '') for c in ret.index]\n",
    "    return ret"
   ]
  },
  {
   "cell_type": "code",
   "execution_count": 77,
   "metadata": {},
   "outputs": [
    {
     "data": {
      "text/plain": [
       "AP                                            12\n",
       "AimTime                                        1\n",
       "AngleDispersion                            0.005\n",
       "Caliber                                    105mm\n",
       "CanSmoke                                    True\n",
       "CorrectedShotDispersionMultiplier            NaN\n",
       "DispersionAtMaxRange                         NaN\n",
       "DispersionAtMinRange                         NaN\n",
       "DisplayedAmmunition                           24\n",
       "FireTriggeringProbability                    NaN\n",
       "HE                                             3\n",
       "HitProbability                               0.5\n",
       "HitProbabilityWhileMoving                    NaN\n",
       "MinimalCritProbability                      0.01\n",
       "MinimalHitProbability                       0.05\n",
       "MissileMaxAcceleration                       NaN\n",
       "MissileMaxSpeed                              NaN\n",
       "MissileTimeBetweenCorrections                NaN\n",
       "Name                                        FL15\n",
       "Noise                                        250\n",
       "NumberOfSalvos                                 2\n",
       "PositionOnCard                                 2\n",
       "ProjectilesPerShot                             1\n",
       "RadiusSplashPhysicalDamage                  1.75\n",
       "RadiusSplashSuppressDamage                183.75\n",
       "RangeGround                                 2100\n",
       "RangeGroundMinimum                           NaN\n",
       "RangeHelicopters                             NaN\n",
       "RangeHelicoptersMinimum                      NaN\n",
       "RangeMissiles                                NaN\n",
       "RangeMissilesMinimum                         NaN\n",
       "RangePlanes                                  NaN\n",
       "RangePlanesMinimum                           NaN\n",
       "RangeShip                                   2100\n",
       "RangeShipMinimum                             NaN\n",
       "RayonPinned                                 2080\n",
       "ShotsPerSalvo                                 12\n",
       "SupplyCost                                   180\n",
       "Tags                                 KE|AoE|STAT\n",
       "TimeBetweenSalvos                             20\n",
       "TimeBetweenShots                               3\n",
       "Type                                    Main Gun\n",
       "Name: 30, dtype: object"
      ]
     },
     "execution_count": 77,
     "metadata": {},
     "output_type": "execute_result"
    }
   ],
   "source": [
    "weapon_stats_by_type(tanks.iloc[0], weapons, 'Main Gun')"
   ]
  },
  {
   "cell_type": "markdown",
   "metadata": {},
   "source": [
    "Now we can go through and build features type-by-type.\n",
    "\n",
    "Main guns are the easiest, as every tank has one."
   ]
  },
  {
   "cell_type": "code",
   "execution_count": 80,
   "metadata": {
    "scrolled": false
   },
   "outputs": [],
   "source": [
    "raw = tanks.apply(lambda srs: weapon_stats_by_type(srs, weapons, 'Main Gun'), axis='columns')\n",
    "\n",
    "tanks_df = tanks_df.assign(\n",
    "    MainGunAP=raw['AP'].fillna(0), \n",
    "    MainGunAmmoCount=raw['DisplayedAmmunition'],\n",
    "    MainGunHE=raw['HE'].fillna(0),\n",
    "    MainGunHitProbability=raw['HitProbability'],\n",
    "    MainGunHitProbabilityWhileMoving=raw['HitProbability'].fillna(0),\n",
    "    MainGunName=raw['Name'],\n",
    "    MainGunRangeGround=raw['RangeGround'],\n",
    "    MainGunTimeBetweenShots=raw['TimeBetweenShots']\n",
    ")"
   ]
  },
  {
   "cell_type": "markdown",
   "metadata": {},
   "source": [
    "Although we have a framework for adding the remaining weapon platforms on as well, for now I will ignore them, as I would first like to validate my approach."
   ]
  },
  {
   "cell_type": "code",
   "execution_count": 83,
   "metadata": {},
   "outputs": [
    {
     "name": "stdout",
     "output_type": "stream",
     "text": [
      "best bandwidth: 7.847599703514611\n"
     ]
    }
   ],
   "source": [
    "from sklearn.neighbors import KernelDensity\n",
    "from sklearn.model_selection import GridSearchCV\n",
    "import numpy as np\n",
    "\n",
    "# use grid search cross-validation to optimize the bandwidth\n",
    "params = {'bandwidth': np.logspace(-1, 1, 20)}\n",
    "grid = GridSearchCV(KernelDensity(), params)\n",
    "grid.fit(tanks_df[[c for c in tanks_df.columns if c != 'MainGunName']])\n",
    "\n",
    "print(\"best bandwidth: {0}\".format(grid.best_estimator_.bandwidth))\n",
    "\n",
    "model = grid.best_estimator_"
   ]
  },
  {
   "cell_type": "code",
   "execution_count": 95,
   "metadata": {},
   "outputs": [
    {
     "data": {
      "text/plain": [
       "Amphibious                            -1.680476\n",
       "ArmorFront                            20.942044\n",
       "ArmorRear                              7.254171\n",
       "ArmorSides                             4.821952\n",
       "ArmorTop                               3.802624\n",
       "Autonomy                             594.369959\n",
       "MaxSpeed                              29.807502\n",
       "Price                                 38.227558\n",
       "Year                                1959.544091\n",
       "MainGunAP                             16.420129\n",
       "MainGunAmmoCount                      41.995290\n",
       "MainGunHE                              6.958947\n",
       "MainGunHitProbability                  8.365248\n",
       "MainGunHitProbabilityWhileMoving      -3.371551\n",
       "MainGunRangeGround                  1915.345083\n",
       "MainGunTimeBetweenShots               13.649526\n",
       "dtype: float64"
      ]
     },
     "execution_count": 95,
     "metadata": {},
     "output_type": "execute_result"
    }
   ],
   "source": [
    "pd.Series(model.sample(1)[0], index=[c for c in tanks_df.columns if c != 'MainGunName'])"
   ]
  },
  {
   "cell_type": "code",
   "execution_count": 111,
   "metadata": {},
   "outputs": [
    {
     "data": {
      "image/png": "[encoded data removed]",
      "text/plain": [
       "<Figure size 432x288 with 1 Axes>"
      ]
     },
     "metadata": {},
     "output_type": "display_data"
    }
   ],
   "source": [
    "%matplotlib inline\n",
    "(tanks_df['MainGunAP'] / tanks_df['Price']).plot.hist(bins=40)\n",
    "import matplotlib.pyplot as plt\n",
    "lims = plt.gca().get_xlim()"
   ]
  },
  {
   "cell_type": "code",
   "execution_count": 113,
   "metadata": {},
   "outputs": [
    {
     "data": {
      "text/plain": [
       "<matplotlib.axes._subplots.AxesSubplot at 0x7fa17b8890b8>"
      ]
     },
     "execution_count": 113,
     "metadata": {},
     "output_type": "execute_result"
    },
    {
     "data": {
      "image/png": "[encoded data removed]",
      "text/plain": [
       "<Figure size 432x288 with 1 Axes>"
      ]
     },
     "metadata": {},
     "output_type": "display_data"
    }
   ],
   "source": [
    "pd.DataFrame(model.sample(1000), columns=[c for c in tanks_df.columns if c != 'MainGunName'])\\\n",
    "    .pipe(lambda df: df['MainGunAP'] / df['Price']).plot.hist(bins=40)"
   ]
  },
  {
   "cell_type": "code",
   "execution_count": 112,
   "metadata": {},
   "outputs": [
    {
     "data": {
      "text/plain": [
       "(0.09416666666666665, 0.8336111111111113)"
      ]
     },
     "execution_count": 112,
     "metadata": {},
     "output_type": "execute_result"
    },
    {
     "data": {
      "image/png": "[encoded data removed]",
      "text/plain": [
       "<Figure size 432x288 with 1 Axes>"
      ]
     },
     "metadata": {},
     "output_type": "display_data"
    }
   ],
   "source": [
    "pd.DataFrame(model.sample(1000), columns=[c for c in tanks_df.columns if c != 'MainGunName'])\\\n",
    "    .pipe(lambda df: df['MainGunAP'] / df['Price']).plot.hist(bins=40)\n",
    "plt.gca().set_xlim(lims)"
   ]
  },
  {
   "cell_type": "markdown",
   "metadata": {},
   "source": [
    "Here I am testing the validity of the model by examining the distribution of AP to Price for samples drawn from it. This is an important learned relationship in W:RD, so it should be modeled very clearly. We see here that the model does capture the fundamental shape, but that it also experiences rare events which would never occur inside the game.\n",
    "\n",
    "While it's encouraging that the *general shape* of this derived statistic looks realistic, these outliers are a problem. They occur because the KDE model doesn't assume anything about hard limits on the underlying data.\n",
    "\n",
    "For example, domain knowledge tells us that AP is always between 1 and 24. But here in what the model outputs:"
   ]
  },
  {
   "cell_type": "code",
   "execution_count": 114,
   "metadata": {},
   "outputs": [
    {
     "data": {
      "text/plain": [
       "<matplotlib.axes._subplots.AxesSubplot at 0x7fa17b7c2748>"
      ]
     },
     "execution_count": 114,
     "metadata": {},
     "output_type": "execute_result"
    },
    {
     "data": {
      "image/png": "[encoded data removed]",
      "text/plain": [
       "<Figure size 432x288 with 1 Axes>"
      ]
     },
     "metadata": {},
     "output_type": "display_data"
    }
   ],
   "source": [
    "pd.DataFrame(model.sample(1000), columns=[c for c in tanks_df.columns if c != 'MainGunName']).MainGunAP.plot.hist(bins=40)"
   ]
  },
  {
   "cell_type": "markdown",
   "metadata": {},
   "source": [
    "Compare this with reality:"
   ]
  },
  {
   "cell_type": "code",
   "execution_count": 118,
   "metadata": {},
   "outputs": [
    {
     "data": {
      "text/plain": [
       "<matplotlib.axes._subplots.AxesSubplot at 0x7fa17b5b51d0>"
      ]
     },
     "execution_count": 118,
     "metadata": {},
     "output_type": "execute_result"
    },
    {
     "data": {
      "image/png": "[encoded data removed]",
      "text/plain": [
       "<Figure size 432x288 with 1 Axes>"
      ]
     },
     "metadata": {},
     "output_type": "display_data"
    }
   ],
   "source": [
    "tanks_df.MainGunAP.plot.hist(bins=10)"
   ]
  },
  {
   "cell_type": "markdown",
   "metadata": {},
   "source": [
    "Since the fundamental distribution looks good, we know that we can partially deal with this distributional problem by simply rejecting samples that are drawn that lie outside known boundaries. If we follow that procedure we get the following graph:"
   ]
  },
  {
   "cell_type": "code",
   "execution_count": 126,
   "metadata": {},
   "outputs": [],
   "source": [
    "def conditional_sample(model, n, cond):\n",
    "    samples = []\n",
    "    while len(samples) < n:\n",
    "        sample = model.sample(1)[0]\n",
    "        sample = pd.Series(sample, index=[c for c in tanks_df.columns if c != 'MainGunName'])\n",
    "        if cond(sample):\n",
    "            samples.append(sample)\n",
    "    return pd.DataFrame(samples)"
   ]
  },
  {
   "cell_type": "code",
   "execution_count": 128,
   "metadata": {},
   "outputs": [
    {
     "data": {
      "text/plain": [
       "<matplotlib.axes._subplots.AxesSubplot at 0x7fa17b409dd8>"
      ]
     },
     "execution_count": 128,
     "metadata": {},
     "output_type": "execute_result"
    },
    {
     "data": {
      "image/png": "[encoded data removed]",
      "text/plain": [
       "<Figure size 432x288 with 1 Axes>"
      ]
     },
     "metadata": {},
     "output_type": "display_data"
    }
   ],
   "source": [
    "conditional_sample(model, \n",
    "                   1000, \n",
    "                   lambda sample: tanks_df.MainGunAP.min() < sample.MainGunAP < tanks_df.MainGunAP.max()\n",
    "                  )\\\n",
    "    .MainGunAP.plot.hist()"
   ]
  },
  {
   "cell_type": "markdown",
   "metadata": {},
   "source": [
    "Hmm, the distribution looks different. Perhaps normalization will improve things?"
   ]
  },
  {
   "cell_type": "code",
   "execution_count": 138,
   "metadata": {},
   "outputs": [
    {
     "name": "stdout",
     "output_type": "stream",
     "text": [
      "best bandwidth: 0.1\n"
     ]
    }
   ],
   "source": [
    "from sklearn.preprocessing import normalize\n",
    "tanks_df_norm = pd.DataFrame(\n",
    "    normalize(tanks_df.drop('MainGunName', axis='columns').assign(Amphibious=tanks_df.Amphibious.astype(int))),\n",
    "    columns=tanks_df.drop('MainGunName', axis='columns').columns\n",
    ")\n",
    "tanks_df_norm\n",
    "\n",
    "from sklearn.neighbors import KernelDensity\n",
    "from sklearn.model_selection import GridSearchCV\n",
    "import numpy as np\n",
    "\n",
    "# use grid search cross-validation to optimize the bandwidth\n",
    "params = {'bandwidth': np.logspace(-1, 1, 20)}\n",
    "grid = GridSearchCV(KernelDensity(), params)\n",
    "grid.fit(tanks_df_norm)\n",
    "\n",
    "print(\"best bandwidth: {0}\".format(grid.best_estimator_.bandwidth))\n",
    "\n",
    "model = grid.best_estimator_"
   ]
  },
  {
   "cell_type": "code",
   "execution_count": 143,
   "metadata": {},
   "outputs": [
    {
     "data": {
      "text/plain": [
       "<matplotlib.axes._subplots.AxesSubplot at 0x7fa17bb28198>"
      ]
     },
     "execution_count": 143,
     "metadata": {},
     "output_type": "execute_result"
    },
    {
     "data": {
      "image/png": "[encoded data removed]",
      "text/plain": [
       "<Figure size 432x288 with 1 Axes>"
      ]
     },
     "metadata": {},
     "output_type": "display_data"
    }
   ],
   "source": [
    "tanks_df_norm.MainGunAP.plot.hist(bins=40)"
   ]
  },
  {
   "cell_type": "code",
   "execution_count": 142,
   "metadata": {},
   "outputs": [
    {
     "data": {
      "text/plain": [
       "<matplotlib.axes._subplots.AxesSubplot at 0x7fa17b2d8d30>"
      ]
     },
     "execution_count": 142,
     "metadata": {},
     "output_type": "execute_result"
    },
    {
     "data": {
      "image/png": "[encoded data removed]",
      "text/plain": [
       "<Figure size 432x288 with 1 Axes>"
      ]
     },
     "metadata": {},
     "output_type": "display_data"
    }
   ],
   "source": [
    "pd.DataFrame(model.sample(1000), columns=tanks_df.drop('MainGunName', axis='columns').columns).MainGunAP.plot.hist(bins=40)"
   ]
  },
  {
   "cell_type": "markdown",
   "metadata": {},
   "source": [
    "Hmm. That doesn't correct the issue. And in fact, we start to see a big, and undesirable, jump in on how long it takes to generate samples (e.g. we are rejecting way more samples)."
   ]
  },
  {
   "cell_type": "code",
   "execution_count": 151,
   "metadata": {
    "scrolled": true
   },
   "outputs": [
    {
     "name": "stdout",
     "output_type": "stream",
     "text": [
      "1.19 s ± 104 ms per loop (mean ± std. dev. of 7 runs, 1 loop each)\n"
     ]
    },
    {
     "data": {
      "image/png": "[encoded data removed]",
      "text/plain": [
       "<Figure size 432x288 with 1 Axes>"
      ]
     },
     "metadata": {},
     "output_type": "display_data"
    }
   ],
   "source": [
    "%timeit conditional_sample(model, 100, lambda sample: tanks_df_norm.MainGunAP.min() < sample.MainGunAP < tanks_df_norm.MainGunAP.max()).MainGunAP.plot.hist()"
   ]
  },
  {
   "cell_type": "markdown",
   "metadata": {},
   "source": [
    "It seems like this approach doesn't work that well either! Given all this we should probably try some other algorithm, like linear regression, and see if that performs better."
   ]
  }
 ],
 "metadata": {
  "kernelspec": {
   "display_name": "Python 3",
   "language": "python",
   "name": "python3"
  },
  "language_info": {
   "codemirror_mode": {
    "name": "ipython",
    "version": 3
   },
   "file_extension": ".py",
   "mimetype": "text/x-python",
   "name": "python",
   "nbconvert_exporter": "python",
   "pygments_lexer": "ipython3",
   "version": "3.6.5"
  }
 },
 "nbformat": 4,
 "nbformat_minor": 2
}
